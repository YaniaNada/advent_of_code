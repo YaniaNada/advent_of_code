{
  "nbformat": 4,
  "nbformat_minor": 0,
  "metadata": {
    "colab": {
      "provenance": [],
      "authorship_tag": "ABX9TyPq7uqUpBFLw2VN9Ylm9QdK",
      "include_colab_link": true
    },
    "kernelspec": {
      "name": "python3",
      "display_name": "Python 3"
    },
    "language_info": {
      "name": "python"
    }
  },
  "cells": [
    {
      "cell_type": "markdown",
      "metadata": {
        "id": "view-in-github",
        "colab_type": "text"
      },
      "source": [
        "<a href=\"https://colab.research.google.com/github/YaniaNada/advent_of_code/blob/main/day_5.ipynb\" target=\"_parent\"><img src=\"https://colab.research.google.com/assets/colab-badge.svg\" alt=\"Open In Colab\"/></a>"
      ]
    },
    {
      "cell_type": "code",
      "execution_count": 1,
      "metadata": {
        "id": "4WSRHkX6nPtG"
      },
      "outputs": [],
      "source": [
        "# https://adventofcode.com/2024/day/5"
      ]
    },
    {
      "cell_type": "code",
      "source": [],
      "metadata": {
        "id": "v2SaYNHDnamr"
      },
      "execution_count": null,
      "outputs": []
    }
  ]
}