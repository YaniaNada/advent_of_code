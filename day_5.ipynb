{
  "cells": [
    {
      "cell_type": "markdown",
      "metadata": {
        "colab_type": "text",
        "id": "view-in-github"
      },
      "source": [
        "<a href=\"https://colab.research.google.com/github/YaniaNada/advent_of_code/blob/main/day_5.ipynb\" target=\"_parent\"><img src=\"https://colab.research.google.com/assets/colab-badge.svg\" alt=\"Open In Colab\"/></a>"
      ]
    },
    {
      "cell_type": "code",
      "execution_count": 1,
      "metadata": {
        "id": "4WSRHkX6nPtG"
      },
      "outputs": [],
      "source": [
        "# https://adventofcode.com/2024/day/5"
      ]
    },
    {
      "cell_type": "code",
      "execution_count": 1,
      "metadata": {
        "id": "v2SaYNHDnamr"
      },
      "outputs": [],
      "source": [
        "import pandas as pd"
      ]
    },
    {
      "cell_type": "code",
      "execution_count": 3,
      "metadata": {},
      "outputs": [],
      "source": [
        "rules = pd.read_excel('day_5_2024.xlsx', sheet_name='Sheet1', header=None)\n",
        "page_updates = pd.read_excel('day_5_2024.xlsx', sheet_name='Sheet2', header=None)"
      ]
    },
    {
      "cell_type": "code",
      "execution_count": 7,
      "metadata": {},
      "outputs": [
        {
          "name": "stdout",
          "output_type": "stream",
          "text": [
            "       0\n",
            "0  99|31\n",
            "1  26|21\n",
            "2  26|69\n",
            "3  69|35\n",
            "4  69|75\n",
            "                                                   0\n",
            "0                   75,94,71,16,31,95,11,73,97,77,81\n",
            "1             17,91,62,86,14,26,12,99,37,59,49,13,77\n",
            "2                   62,36,12,37,49,78,77,31,87,21,11\n",
            "3                   59,13,31,16,75,58,95,15,39,24,54\n",
            "4  95,15,39,97,94,24,54,93,67,81,82,35,18,45,85,1...\n"
          ]
        }
      ],
      "source": [
        "print(rules.head())\n",
        "print(page_updates.head())"
      ]
    },
    {
      "cell_type": "code",
      "execution_count": null,
      "metadata": {},
      "outputs": [],
      "source": []
    }
  ],
  "metadata": {
    "colab": {
      "authorship_tag": "ABX9TyPq7uqUpBFLw2VN9Ylm9QdK",
      "include_colab_link": true,
      "provenance": []
    },
    "kernelspec": {
      "display_name": "Python 3",
      "name": "python3"
    },
    "language_info": {
      "codemirror_mode": {
        "name": "ipython",
        "version": 3
      },
      "file_extension": ".py",
      "mimetype": "text/x-python",
      "name": "python",
      "nbconvert_exporter": "python",
      "pygments_lexer": "ipython3",
      "version": "3.11.9"
    }
  },
  "nbformat": 4,
  "nbformat_minor": 0
}
